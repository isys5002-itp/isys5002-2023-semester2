{
  "nbformat": 4,
  "nbformat_minor": 0,
  "metadata": {
    "colab": {
      "provenance": [],
      "authorship_tag": "ABX9TyPGup19mA8B+1D9HwdKytzY",
      "include_colab_link": true
    },
    "kernelspec": {
      "name": "python3",
      "display_name": "Python 3"
    },
    "language_info": {
      "name": "python"
    }
  },
  "cells": [
    {
      "cell_type": "markdown",
      "metadata": {
        "id": "view-in-github",
        "colab_type": "text"
      },
      "source": [
        "<a href=\"https://colab.research.google.com/github/isys5002-itp/isys5002-2023-semester2/blob/main/analysing_superheroes_dataset_Wed4PM.ipynb\" target=\"_parent\"><img src=\"https://colab.research.google.com/assets/colab-badge.svg\" alt=\"Open In Colab\"/></a>"
      ]
    },
    {
      "cell_type": "markdown",
      "source": [
        "**Import libraries and Load the Dataset**"
      ],
      "metadata": {
        "id": "4JBqPg-ommEp"
      }
    },
    {
      "cell_type": "code",
      "source": [],
      "metadata": {
        "id": "6zq-ai43morY"
      },
      "execution_count": null,
      "outputs": []
    },
    {
      "cell_type": "markdown",
      "source": [
        "**Explore the Dataset**\n",
        "- Display the first few rows of the dataset using head().\n",
        "- Check the shape of the DataFrame (number of rows and columns).\n",
        "- Use info() to get information about the data types and missing values.\n",
        "- Use describe() to get summary statistics for numerical columns (if any).\n",
        "\n",
        "\n",
        "\n"
      ],
      "metadata": {
        "id": "Xniuh-3ymq0I"
      }
    },
    {
      "cell_type": "code",
      "source": [],
      "metadata": {
        "id": "iLu2OmjVm08h"
      },
      "execution_count": null,
      "outputs": []
    },
    {
      "cell_type": "markdown",
      "source": [
        "**Data Manipulation**\n",
        "1. Filter the dataset to show only female superheroes.\n",
        "2. Sort the dataset by the last name in ascending order.\n",
        "3. Filter the dataset to show only superheroes who are \"Good\" aligned.\n",
        "4. Create a new column called \"full_name\" by combining the \"first_name\" and \"last_name\" columns.\n",
        "5. Group the data by gender and compute the number of \"Good\" and \"Evil\" characters for each gender category\n"
      ],
      "metadata": {
        "id": "SgbpUHsqm29I"
      }
    },
    {
      "cell_type": "code",
      "source": [],
      "metadata": {
        "id": "Ux_1ELVanDxh"
      },
      "execution_count": null,
      "outputs": []
    }
  ]
}