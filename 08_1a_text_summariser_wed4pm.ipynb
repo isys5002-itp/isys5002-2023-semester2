{
  "nbformat": 4,
  "nbformat_minor": 0,
  "metadata": {
    "colab": {
      "provenance": [],
      "authorship_tag": "ABX9TyOUoL5sO516f+0PMD1ie/ps",
      "include_colab_link": true
    },
    "kernelspec": {
      "name": "python3",
      "display_name": "Python 3"
    },
    "language_info": {
      "name": "python"
    }
  },
  "cells": [
    {
      "cell_type": "markdown",
      "metadata": {
        "id": "view-in-github",
        "colab_type": "text"
      },
      "source": [
        "<a href=\"https://colab.research.google.com/github/isys5002-itp/isys5002-2023-semester2/blob/main/08_1a_text_summariser_wed4pm.ipynb\" target=\"_parent\"><img src=\"https://colab.research.google.com/assets/colab-badge.svg\" alt=\"Open In Colab\"/></a>"
      ]
    },
    {
      "cell_type": "markdown",
      "source": [
        "# Build a Text Summeriser"
      ],
      "metadata": {
        "id": "dzi8nLIkrXHm"
      }
    },
    {
      "cell_type": "markdown",
      "source": [
        "## Install the hugging face transformer"
      ],
      "metadata": {
        "id": "lqX0HBw_rdNe"
      }
    },
    {
      "cell_type": "code",
      "execution_count": null,
      "metadata": {
        "id": "aptyNkxdqmRs"
      },
      "outputs": [],
      "source": [
        "!pip install transformers"
      ]
    },
    {
      "cell_type": "markdown",
      "source": [
        "## import the libraries"
      ],
      "metadata": {
        "id": "fA6hDnCisDvR"
      }
    },
    {
      "cell_type": "code",
      "source": [
        "from transformers import pipeline"
      ],
      "metadata": {
        "id": "lPjikeDysDCR"
      },
      "execution_count": 2,
      "outputs": []
    },
    {
      "cell_type": "code",
      "source": [
        "summariser = pipeline(\"summarization\", model=\"facebook/bart-large-cnn\")"
      ],
      "metadata": {
        "id": "egLkHXAOsoK7"
      },
      "execution_count": null,
      "outputs": []
    },
    {
      "cell_type": "markdown",
      "source": [
        "source of text: https://hbr.org/2023/06/ai-prompt-engineering-isnt-the-future"
      ],
      "metadata": {
        "id": "I_yl5lQSvJaG"
      }
    },
    {
      "cell_type": "code",
      "source": [
        "article = '''\n",
        "Prompt engineering has taken the generative AI world by storm. The job, which entails optimizing textual input to effectively communicate with large language models, has been hailed by World Economic Forum as the number one “job of the future” while Open AI CEO Sam Altman characterized it as an “amazingly high-leveraged skill.” Social media brims with a new wave of influencers showcasing “magic prompts” and pledging amazing outcomes.\n",
        "\n",
        "\n",
        "\n",
        "However, despite the buzz surrounding it, the prominence of prompt engineering may be fleeting for several reasons. First, future generations of AI systems will get more intuitive and adept at understanding natural language, reducing the need for meticulously engineered prompts. Second, new AI language models like GPT4 already show great promise in crafting prompts — AI itself is on the verge of rendering prompt engineering obsolete. Lastly, the efficacy of prompts is contingent upon the specific algorithm, limiting their utility across diverse AI models and versions.\n",
        "\n",
        "So, what is a more enduring and adaptable skill that will keep enabling us to harness the potential of generative AI? It is problem formulation — the ability to identify, analyze, and delineate problems.\n",
        "\n",
        "Problem formulation and prompt engineering differ in their focus, core tasks, and underlying abilities. Prompt engineering focuses on crafting the optimal textual input by selecting the appropriate words, phrases, sentence structures, and punctuation. In contrast, problem formulation emphasizes defining the problem by delineating its focus, scope, and boundaries. Prompt engineering requires a firm grasp of a specific AI tool and linguistic proficiency while problem formulation necessitates a comprehensive understanding of the problem domain and ability to distill real-world issues. The fact is, without a well-formulated problem, even the most sophisticated prompts will fall short. However, once a problem is clearly defined, the linguistics nuances of a prompt become tangential to the solution.\n",
        "\n",
        "Unfortunately, problem formulation is a widely overlooked and underdeveloped skill for most of us. One reason is the disproportionate emphasis given to problem-solving at the expense of formulation. This imbalance is perhaps best illustrated by the prevalent yet misguided management adage, “don’t bring me problems, bring me solutions.” It is therefore not surprising to see a recent survey revealing that 85% of C-suite executives consider their organizations bad at diagnosing problems.\n",
        "\n",
        "How can you get better at problem formulation? By synthesizing insights from past research on problem formulation and job design, as well as my own experience and research on crowdsourcing platforms — where organizational challenges are regularly articulated and opened up to large audiences — I have identified four key components for effective problem formulation: problem diagnosis, decomposition, reframing, and constraint design.\n",
        "\n",
        "'''"
      ],
      "metadata": {
        "id": "NQz6Rzy-usC1"
      },
      "execution_count": 13,
      "outputs": []
    },
    {
      "cell_type": "code",
      "source": [
        "# Run the summariser pipeline\n",
        "summary = summariser(article, max_length = 150, min_length= 50)"
      ],
      "metadata": {
        "id": "hXJj65pRvafI"
      },
      "execution_count": 16,
      "outputs": []
    },
    {
      "cell_type": "code",
      "source": [
        "print(\"The summary text is: \\n\", summary)"
      ],
      "metadata": {
        "colab": {
          "base_uri": "https://localhost:8080/"
        },
        "id": "a9z5y-UMxQf2",
        "outputId": "caa84d08-cba4-4cd0-9857-ae73dc655cf1"
      },
      "execution_count": 21,
      "outputs": [
        {
          "output_type": "stream",
          "name": "stdout",
          "text": [
            "The summary text is: \n",
            " [{'summary_text': 'Prompt engineering has been hailed as the number one ‘job of the future’ by the World Economic Forum. But the prominence of prompt engineering may be fleeting for several reasons. Future generations of AI systems will get more intuitive and adept at understanding natural language, reducing need for meticulously engineered prompts.'}]\n"
          ]
        }
      ]
    },
    {
      "cell_type": "code",
      "source": [
        "from pprint import pprint\n",
        "pprint(summary)"
      ],
      "metadata": {
        "colab": {
          "base_uri": "https://localhost:8080/"
        },
        "id": "oNcXIh9nykBk",
        "outputId": "f6639e9c-f6b3-4b74-f3d8-8c8387c3e4aa"
      },
      "execution_count": 18,
      "outputs": [
        {
          "output_type": "stream",
          "name": "stdout",
          "text": [
            "[{'summary_text': 'Prompt engineering has been hailed as the number one ‘job '\n",
            "                  'of the future’ by the World Economic Forum. But the '\n",
            "                  'prominence of prompt engineering may be fleeting for '\n",
            "                  'several reasons. Future generations of AI systems will get '\n",
            "                  'more intuitive and adept at understanding natural language, '\n",
            "                  'reducing need for meticulously engineered prompts.'}]\n"
          ]
        }
      ]
    },
    {
      "cell_type": "code",
      "source": [
        "type(summary)"
      ],
      "metadata": {
        "colab": {
          "base_uri": "https://localhost:8080/"
        },
        "id": "OQ-mbewOz_jy",
        "outputId": "33165aae-153b-4d5f-bbac-bbb61ce62734"
      },
      "execution_count": 22,
      "outputs": [
        {
          "output_type": "execute_result",
          "data": {
            "text/plain": [
              "list"
            ]
          },
          "metadata": {},
          "execution_count": 22
        }
      ]
    },
    {
      "cell_type": "code",
      "source": [
        "text = summary[0]['summary_text']"
      ],
      "metadata": {
        "id": "13OJi8N20kFr"
      },
      "execution_count": 23,
      "outputs": []
    },
    {
      "cell_type": "code",
      "source": [
        "print(\"Extract summary text is: \", text)"
      ],
      "metadata": {
        "colab": {
          "base_uri": "https://localhost:8080/"
        },
        "id": "OjojOBt70xNd",
        "outputId": "6843f5b0-e244-422f-8887-3e14d7081edf"
      },
      "execution_count": 26,
      "outputs": [
        {
          "output_type": "stream",
          "name": "stdout",
          "text": [
            "Extract summary text is:  Prompt engineering has been hailed as the number one ‘job of the future’ by the World Economic Forum. But the prominence of prompt engineering may be fleeting for several reasons. Future generations of AI systems will get more intuitive and adept at understanding natural language, reducing need for meticulously engineered prompts.\n"
          ]
        }
      ]
    },
    {
      "cell_type": "code",
      "source": [],
      "metadata": {
        "id": "VymlMPn81MOl"
      },
      "execution_count": null,
      "outputs": []
    },
    {
      "cell_type": "code",
      "source": [
        "from transformers import pipeline\n",
        "\n",
        "def summariser(article):\n",
        "  summariser = pipeline(\"summarization\", model=\"facebook/bart-large-cnn\")\n",
        "  summary = summariser(article, max_length = 150, min_length= 50)\n",
        "  text = summary[0]['summary_text']\n",
        "  return text\n",
        "\n",
        "\n",
        ""
      ],
      "metadata": {
        "id": "rLU7_rH81MIV"
      },
      "execution_count": 27,
      "outputs": []
    },
    {
      "cell_type": "code",
      "source": [
        "problem_text = '''\n",
        "\n",
        "Problem diagnosis is about identifying the core problem for AI to solve. In other words, it concerns identifying the main objective you want generative AI to accomplish. Some problems are relatively simple to pinpoint such as when the objective is gaining information on a specific topic like various HRM strategies for employee compensation. Others are more challenging such as then exploring solutions to an innovation problem.\n",
        "\n",
        "A case in point is InnoCentive (now Wazoku Crowd). The company has helped its clients formulate more than 2,500 problems, with an impressive success rate over 80%. My interviews with InnoCentive employees revealed that a key factor behind this success was their ability to discern the fundamental underlying a problem. In fact, they often start their problem formulation process by using the “Five Whys” technique to distinguish the root causes from mere symptoms.\n",
        "\n",
        "A particular instance is the subarctic oil problem, which involved cleaning up subarctic waters after the catastrophic Exxon Valdez oil spill. Collaborating with the Oil Spill Recovery Institute, InnoCentive pinpointed the root cause of the oil cleanup issue as the viscosity of the crude oil: the frozen oil became too thick to pump from barges. This diagnosis was key to finally cracking the two-decade-old problem with a solution that involved using a modified version of construction equipment designed to vibrate the oil, keeping it in a liquid state.\n",
        "'''"
      ],
      "metadata": {
        "id": "WlW5-APm1yUW"
      },
      "execution_count": 28,
      "outputs": []
    },
    {
      "cell_type": "code",
      "source": [
        "summariser(problem_text)"
      ],
      "metadata": {
        "colab": {
          "base_uri": "https://localhost:8080/",
          "height": 70
        },
        "id": "2LW3dQqE1ppm",
        "outputId": "0b9e00d9-c63d-4523-a162-253ad67765c0"
      },
      "execution_count": 29,
      "outputs": [
        {
          "output_type": "execute_result",
          "data": {
            "text/plain": [
              "'Problem diagnosis is about identifying the core problem for AI to solve. Some problems are relatively simple to pinpoint such as when the objective is gaining information on a specific topic. Others are more challenging such as then exploring solutions to an innovation problem. InnoCentive has helped its clients formulate more than 2,500 problems, with an impressive success rate over 80%.'"
            ],
            "application/vnd.google.colaboratory.intrinsic+json": {
              "type": "string"
            }
          },
          "metadata": {},
          "execution_count": 29
        }
      ]
    }
  ]
}