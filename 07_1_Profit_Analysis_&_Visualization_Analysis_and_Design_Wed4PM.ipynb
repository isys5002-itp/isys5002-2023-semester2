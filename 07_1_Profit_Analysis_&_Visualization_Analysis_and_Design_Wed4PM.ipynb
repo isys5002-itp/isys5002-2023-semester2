{
  "nbformat": 4,
  "nbformat_minor": 0,
  "metadata": {
    "colab": {
      "provenance": [],
      "authorship_tag": "ABX9TyPaQesAsU+I1iHrWpbg5trO",
      "include_colab_link": true
    },
    "kernelspec": {
      "name": "python3",
      "display_name": "Python 3"
    },
    "language_info": {
      "name": "python"
    }
  },
  "cells": [
    {
      "cell_type": "markdown",
      "metadata": {
        "id": "view-in-github",
        "colab_type": "text"
      },
      "source": [
        "<a href=\"https://colab.research.google.com/github/isys5002-itp/isys5002-2023-semester2/blob/main/07_1_Profit_Analysis_%26_Visualization_Analysis_and_Design_Wed4PM.ipynb\" target=\"_parent\"><img src=\"https://colab.research.google.com/assets/colab-badge.svg\" alt=\"Open In Colab\"/></a>"
      ]
    },
    {
      "cell_type": "markdown",
      "source": [
        "# Instructions:\n",
        "\n",
        "Work in pair and design and develop a program for the following task.\n",
        "\n",
        "Create two notebooks:\n",
        "* an analysis and design notebook/report (which includes analysis and design  discussion)\n",
        "* a development notebook which includes pseudocode, step-by-step code developement process, testing, and any other industry best practice\n"
      ],
      "metadata": {
        "id": "9mAf65K4_5Jv"
      }
    },
    {
      "cell_type": "markdown",
      "source": [
        "# Problem Statement:\n",
        "\n",
        "You work for a global retail company that operates in various regions around the world, including the Australia and Oceania region. The company stores sales data in a CSV file named \"sales.csv,\" which contains information about sales and profits in different countries. You are tasked with developing a program to analyze sales data stored in a CSV file named \"sales.csv\" for countries within the Australia and Oceania region. The program should calculate the maximum, minimum, and average profit for **countries** in this region and create a bar graph displaying the total profit for each country. This visualization aims to provide insights into the financial performance of countries in the Australia and Oceania region, helping your global retail company make informed decisions."
      ],
      "metadata": {
        "id": "u-SczfmD8z4W"
      }
    },
    {
      "cell_type": "markdown",
      "source": [
        "## Step 1: State the problem clearly\n",
        "Identify/unpack the tasks/requirements\n",
        "\n",
        "Create a a program to\n",
        "* read the provide data file - e.g.: sales.csv\n",
        "* claening and veriying the dataset\n",
        "* calculate max, minum, avg profit for countries in AUS & Ocenia region\n",
        "* for each cpuntry in AUS & Ocenia region - plot the total profit as a bar graph"
      ],
      "metadata": {
        "id": "MouDnPwcoM-F"
      }
    },
    {
      "cell_type": "markdown",
      "source": [
        "## Step 2: Identify/Define/describe the Inputs and Outputs\n",
        "\n",
        "### Inputs\n",
        "data file provided - sales.csv\n",
        "\n",
        "### Outputs\n",
        "1. computed/calcuated max profit, mim profit and average profit for AUS &\n",
        "Ocenia countries\n",
        "2. bar graph depicting the totla profits for each cpuntr in the AUS & Ocenia region\n",
        "\n"
      ],
      "metadata": {
        "id": "WycYH-PIsaM7"
      }
    },
    {
      "cell_type": "markdown",
      "source": [
        "## Step 3: Work out an example by hand\n",
        "\n",
        "**Example 1:**\n",
        "\n",
        "country 1: 20000\n",
        "\n",
        "country 2: 30000\n",
        "\n",
        "country 3: 25000\n",
        "\n",
        "Max profit will be country 2: 30000\n",
        "\n",
        "Min profit will be country 1: 20000\n",
        "\n",
        "Avg = (20000+30000+25000)/3 = x\n",
        "\n",
        "\n",
        "\n",
        "**Example 2:**\n",
        "\n",
        "Australia and Oceania\tTuvalu\t951410.5\n",
        "\n",
        "Australia and Oceania\tSolomon Islands\t285087.64\n",
        "\n",
        "Australia and Oceania\tEast Timor\t337937.6\n",
        "\n",
        "\n",
        "Max profit will be Tuvalu: 951410.5\n",
        "\n",
        "Min profit will be Solomon: 285087.64\n",
        "\n",
        "Avg = (951410.5+285087.64+337937.6)/3 = x\n",
        "\n",
        "\n",
        "\n",
        "**Example 3:**\n",
        "\n"
      ],
      "metadata": {
        "id": "Sv2icmPpxSnH"
      }
    },
    {
      "cell_type": "markdown",
      "source": [
        "## Step 4: Develop an Algortihm\n",
        "\n",
        "1. read the \"sales.csv' file using pandas\n",
        "\n",
        "1. import pandas\n",
        "1. read the csv file using pandas\n",
        "\n",
        "2. filter data for region AUS & Ocenia & profit\n",
        "\n",
        "2. filter data for region AUS & oecnia\n",
        "2b. filter for total profit\n",
        "\n",
        "3. Calculate max, min and compute avg\n",
        "4. print\n",
        "\n",
        "4. plot graph for totola profit for ach country\n",
        "\n",
        "5. print the max, min and avg values\n",
        "6. display the graph\n"
      ],
      "metadata": {
        "id": "O2BOh6Avy-fW"
      }
    },
    {
      "cell_type": "code",
      "execution_count": null,
      "metadata": {
        "id": "V5NsV1s08zON"
      },
      "outputs": [],
      "source": []
    },
    {
      "cell_type": "markdown",
      "source": [],
      "metadata": {
        "id": "IbCbwC33y10O"
      }
    }
  ]
}