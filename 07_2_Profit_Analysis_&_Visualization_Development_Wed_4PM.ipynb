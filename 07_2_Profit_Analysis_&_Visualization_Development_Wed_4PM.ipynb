{
  "nbformat": 4,
  "nbformat_minor": 0,
  "metadata": {
    "colab": {
      "provenance": [],
      "authorship_tag": "ABX9TyOLV+oxcM+DgNG23l6Wqfge",
      "include_colab_link": true
    },
    "kernelspec": {
      "name": "python3",
      "display_name": "Python 3"
    },
    "language_info": {
      "name": "python"
    }
  },
  "cells": [
    {
      "cell_type": "markdown",
      "metadata": {
        "id": "view-in-github",
        "colab_type": "text"
      },
      "source": [
        "<a href=\"https://colab.research.google.com/github/isys5002-itp/isys5002-2023-semester2/blob/main/07_2_Profit_Analysis_%26_Visualization_Development_Wed_4PM.ipynb\" target=\"_parent\"><img src=\"https://colab.research.google.com/assets/colab-badge.svg\" alt=\"Open In Colab\"/></a>"
      ]
    },
    {
      "cell_type": "markdown",
      "source": [
        "# Instructions:\n",
        "\n",
        "Work in pair and design and develop a program for the following task.\n",
        "\n",
        "Create two notebooks:\n",
        "* an analysis and design notebook/report (which includes analysis and design  discussion)\n",
        "* a development notebook which includes pseudocode, step-by-step code developement process, testing, and any other industry best practice\n"
      ],
      "metadata": {
        "id": "9mAf65K4_5Jv"
      }
    },
    {
      "cell_type": "markdown",
      "source": [
        "# Problem Statement:\n",
        "\n",
        "You work for a global retail company that operates in various regions around the world, including the Australia and Oceania region. The company stores sales data in a CSV file named \"sales.csv,\" which contains information about sales and profits in different countries. You are tasked with developing a program to analyze sales data stored in a CSV file named \"sales.csv\" for countries within the Australia and Oceania region. The program should calculate the maximum, minimum, and average profit for each country in this region and create a bar graph displaying the total profit for each country. This visualization aims to provide insights into the financial performance of countries in the Australia and Oceania region, helping your global retail company make informed decisions."
      ],
      "metadata": {
        "id": "u-SczfmD8z4W"
      }
    },
    {
      "cell_type": "code",
      "execution_count": null,
      "metadata": {
        "id": "V5NsV1s08zON"
      },
      "outputs": [],
      "source": []
    },
    {
      "cell_type": "markdown",
      "source": [
        "## Algortihm/pseudocode\n",
        "\n",
        "1. read the \"sales.csv' file using pandas\n",
        "\n",
        "2. filter data for region AUS & Ocenia & profit\n",
        "\n",
        "3. Calculate max, min and compute avg\n",
        "4. print the max, min and avg values\n",
        "\n",
        "4. plot graph for totola profit for ach country\n",
        "5. display the graph"
      ],
      "metadata": {
        "id": "i1_bkz2D5ONM"
      }
    },
    {
      "cell_type": "markdown",
      "source": [
        "First, I import the pandas module because panads module provide functions to directly the csv files into dataframes. Also pandas module provide various functions for data manipulation and data analysis."
      ],
      "metadata": {
        "id": "hjJ2i2BL5etj"
      }
    },
    {
      "cell_type": "code",
      "source": [
        "import pandas as pd"
      ],
      "metadata": {
        "id": "UZrtLtNm5fUC"
      },
      "execution_count": 1,
      "outputs": []
    },
    {
      "cell_type": "markdown",
      "source": [
        "using the pandas read_csv function, I read the proived sales.csv file\n",
        "save the read data into a datafrema named df"
      ],
      "metadata": {
        "id": "mlYUBqAn7e-i"
      }
    },
    {
      "cell_type": "code",
      "source": [
        "df = pd.read_csv(\"sales.csv\")\n",
        "print (df)"
      ],
      "metadata": {
        "colab": {
          "base_uri": "https://localhost:8080/"
        },
        "id": "IAr1eJuj8HS1",
        "outputId": "0d150025-854c-48af-a9ce-72b9bf3ddfb9"
      },
      "execution_count": 5,
      "outputs": [
        {
          "output_type": "stream",
          "name": "stdout",
          "text": [
            "                               Region                Country        Item Type  \\\n",
            "0               Australia and Oceania                 Tuvalu        Baby Food   \n",
            "1   Central America and the Caribbean                Grenada           Cereal   \n",
            "2                              Europe                 Russia  Office Supplies   \n",
            "3                  Sub-Saharan Africa  Sao Tome and Principe           Fruits   \n",
            "4                  Sub-Saharan Africa                 Rwanda  Office Supplies   \n",
            "..                                ...                    ...              ...   \n",
            "95                 Sub-Saharan Africa                   Mali          Clothes   \n",
            "96                               Asia               Malaysia           Fruits   \n",
            "97                 Sub-Saharan Africa           Sierra Leone       Vegetables   \n",
            "98                      North America                 Mexico    Personal Care   \n",
            "99                 Sub-Saharan Africa             Mozambique        Household   \n",
            "\n",
            "   Sales Channel Order Priority  Order Date   Order ID   Ship Date  \\\n",
            "0        Offline              H   5/28/2010  669165933   6/27/2010   \n",
            "1         Online              C   8/22/2012  963881480   9/15/2012   \n",
            "2        Offline              L    5/2/2014  341417157    5/8/2014   \n",
            "3         Online              C   6/20/2014  514321792    7/5/2014   \n",
            "4        Offline              L    2/1/2013  115456712    2/6/2013   \n",
            "..           ...            ...         ...        ...         ...   \n",
            "95        Online              M   7/26/2011  512878119    9/3/2011   \n",
            "96       Offline              L  11/11/2011  810711038  12/28/2011   \n",
            "97       Offline              C    6/1/2016  728815257   6/29/2016   \n",
            "98       Offline              M   7/30/2015  559427106    8/8/2015   \n",
            "99       Offline              L   2/10/2012  665095412   2/15/2012   \n",
            "\n",
            "    Units Sold  Unit Price  Unit Cost  Total Revenue  Total Cost  Total Profit  \n",
            "0         9925      255.28     159.42     2533654.00  1582243.50     951410.50  \n",
            "1         2804      205.70     117.11      576782.80   328376.44     248406.36  \n",
            "2         1779      651.21     524.96     1158502.59   933903.84     224598.75  \n",
            "3         8102        9.33       6.92       75591.66    56065.84      19525.82  \n",
            "4         5062      651.21     524.96     3296425.02  2657347.52     639077.50  \n",
            "..         ...         ...        ...            ...         ...           ...  \n",
            "95         888      109.28      35.84       97040.64    31825.92      65214.72  \n",
            "96        6267        9.33       6.92       58471.11    43367.64      15103.47  \n",
            "97        1485      154.06      90.93      228779.10   135031.05      93748.05  \n",
            "98        5767       81.73      56.67      471336.91   326815.89     144521.02  \n",
            "99        5367      668.27     502.54     3586605.09  2697132.18     889472.91  \n",
            "\n",
            "[100 rows x 14 columns]\n"
          ]
        }
      ]
    },
    {
      "cell_type": "markdown",
      "source": [
        "filter  region = 'Aus& Oceni' of the dataframe df and store the resulting result into a new datafream df_sales\n"
      ],
      "metadata": {
        "id": "nmWia39G8YyK"
      }
    },
    {
      "cell_type": "code",
      "source": [
        "filtered_df = df[['Region', 'Total Profit']]\n",
        "\n",
        "\n",
        "print(filtered_df)"
      ],
      "metadata": {
        "colab": {
          "base_uri": "https://localhost:8080/"
        },
        "id": "VOdYv6Jd8rBf",
        "outputId": "76181365-d82a-48f4-9dd8-e334b535db6a"
      },
      "execution_count": 16,
      "outputs": [
        {
          "output_type": "stream",
          "name": "stdout",
          "text": [
            "                               Region  Total Profit\n",
            "0               Australia and Oceania     951410.50\n",
            "1   Central America and the Caribbean     248406.36\n",
            "2                              Europe     224598.75\n",
            "3                  Sub-Saharan Africa      19525.82\n",
            "4                  Sub-Saharan Africa     639077.50\n",
            "..                                ...           ...\n",
            "95                 Sub-Saharan Africa      65214.72\n",
            "96                               Asia      15103.47\n",
            "97                 Sub-Saharan Africa      93748.05\n",
            "98                      North America     144521.02\n",
            "99                 Sub-Saharan Africa     889472.91\n",
            "\n",
            "[100 rows x 2 columns]\n"
          ]
        }
      ]
    },
    {
      "cell_type": "markdown",
      "source": [],
      "metadata": {
        "id": "Ry0NzOfU8G4A"
      }
    },
    {
      "cell_type": "code",
      "source": [],
      "metadata": {
        "id": "s_tidgRz85Wv"
      },
      "execution_count": null,
      "outputs": []
    }
  ]
}