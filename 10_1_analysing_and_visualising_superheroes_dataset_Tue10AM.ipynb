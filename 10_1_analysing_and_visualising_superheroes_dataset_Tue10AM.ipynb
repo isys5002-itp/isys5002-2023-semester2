{
  "nbformat": 4,
  "nbformat_minor": 0,
  "metadata": {
    "colab": {
      "provenance": [],
      "authorship_tag": "ABX9TyNp84YTlvTaFVSw4XPkfI86",
      "include_colab_link": true
    },
    "kernelspec": {
      "name": "python3",
      "display_name": "Python 3"
    },
    "language_info": {
      "name": "python"
    }
  },
  "cells": [
    {
      "cell_type": "markdown",
      "metadata": {
        "id": "view-in-github",
        "colab_type": "text"
      },
      "source": [
        "<a href=\"https://colab.research.google.com/github/isys5002-itp/isys5002-2023-semester2/blob/main/10_1_analysing_and_visualising_superheroes_dataset_Tue10AM.ipynb\" target=\"_parent\"><img src=\"https://colab.research.google.com/assets/colab-badge.svg\" alt=\"Open In Colab\"/></a>"
      ]
    },
    {
      "cell_type": "markdown",
      "source": [
        "# Code Development Notebook\n",
        "This notebook is an example of how you could structure your development notebook for your assignment.\n",
        "\n",
        "- you start with an algorithm/steps/plan\n",
        "- walk through the steps of your analysis and code development process\n",
        "\n"
      ],
      "metadata": {
        "id": "LFT2rMfmSnh8"
      }
    },
    {
      "cell_type": "markdown",
      "source": [
        "**Import libraries and Load the Dataset**"
      ],
      "metadata": {
        "id": "4JBqPg-ommEp"
      }
    },
    {
      "cell_type": "code",
      "source": [],
      "metadata": {
        "id": "6zq-ai43morY"
      },
      "execution_count": null,
      "outputs": []
    },
    {
      "cell_type": "code",
      "source": [],
      "metadata": {
        "id": "edarM4I8_R1N"
      },
      "execution_count": null,
      "outputs": []
    },
    {
      "cell_type": "markdown",
      "source": [
        "Inspect the database schema and find out what tables exist in the \"superheroes.db\" database, to understand the structure of the database before deciding which specific table(s) to work with or query."
      ],
      "metadata": {
        "id": "-RjYHkc6-n0p"
      }
    },
    {
      "cell_type": "code",
      "source": [
        "\n"
      ],
      "metadata": {
        "id": "lO7FvqJH-R0v"
      },
      "execution_count": null,
      "outputs": []
    },
    {
      "cell_type": "markdown",
      "source": [
        "We will be working on the dataset in the 'superheroes' table.\n",
        "Load the table into Pandas dataframe"
      ],
      "metadata": {
        "id": "uAQ0eVra-3BQ"
      }
    },
    {
      "cell_type": "code",
      "source": [],
      "metadata": {
        "id": "4DULCW8s_NdH"
      },
      "execution_count": null,
      "outputs": []
    },
    {
      "cell_type": "code",
      "source": [],
      "metadata": {
        "id": "VTf3Um2U_XPx"
      },
      "execution_count": null,
      "outputs": []
    },
    {
      "cell_type": "markdown",
      "source": [
        "### **Data Exploration:**\n",
        "\n",
        "Exploring the structure of the dataset.\n",
        "\n",
        "Use basic Pandas functions to inspect the data:\n",
        "- Display the first few rows of the dataset using head().\n",
        "- Use info() to get information about the data types and missing values.\n",
        "- Use describe() to get summary statistics for numerical columns (if any)."
      ],
      "metadata": {
        "id": "aImnXelp_cNZ"
      }
    },
    {
      "cell_type": "code",
      "source": [
        "# Display the first few rows of the dataset\n"
      ],
      "metadata": {
        "id": "Jg4mY7pn_xkw"
      },
      "execution_count": null,
      "outputs": []
    },
    {
      "cell_type": "code",
      "source": [
        "# Get general information about the dataset\n",
        "\n"
      ],
      "metadata": {
        "id": "6DGZQttp_3BB"
      },
      "execution_count": null,
      "outputs": []
    },
    {
      "cell_type": "code",
      "source": [
        "# Summary statistics of numerical columns\n"
      ],
      "metadata": {
        "id": "UW9iL8ew_4op"
      },
      "execution_count": null,
      "outputs": []
    },
    {
      "cell_type": "markdown",
      "source": [
        "### **Pre-processing and cleaning data**\n",
        "\n",
        "\n",
        "\n"
      ],
      "metadata": {
        "id": "Xniuh-3ymq0I"
      }
    },
    {
      "cell_type": "markdown",
      "source": [
        "**Check for duplicates**"
      ],
      "metadata": {
        "id": "VyNGsuxZCX7W"
      }
    },
    {
      "cell_type": "code",
      "source": [
        "# Check for duplicates based on all columns\n"
      ],
      "metadata": {
        "id": "gNjAGKBJDB_c"
      },
      "execution_count": null,
      "outputs": []
    },
    {
      "cell_type": "code",
      "source": [
        "# To see the duplicate rows, you can use boolean indexing:\n"
      ],
      "metadata": {
        "id": "-zEUqmS3DJet"
      },
      "execution_count": null,
      "outputs": []
    },
    {
      "cell_type": "code",
      "source": [
        "# Removing Duplicates (if any)\n"
      ],
      "metadata": {
        "id": "QOqXN6k5BNRM"
      },
      "execution_count": null,
      "outputs": []
    },
    {
      "cell_type": "code",
      "source": [],
      "metadata": {
        "id": "pJfXLU2UEaTB"
      },
      "execution_count": null,
      "outputs": []
    },
    {
      "cell_type": "markdown",
      "source": [
        "**Check for missing values**"
      ],
      "metadata": {
        "id": "4y5iPd_UCjFs"
      }
    },
    {
      "cell_type": "code",
      "source": [
        "# Check for missing values\n",
        "\n"
      ],
      "metadata": {
        "id": "iLu2OmjVm08h"
      },
      "execution_count": null,
      "outputs": []
    },
    {
      "cell_type": "code",
      "source": [
        "# Check for missing values in each row\n"
      ],
      "metadata": {
        "id": "dERfCrpnEwD-"
      },
      "execution_count": null,
      "outputs": []
    },
    {
      "cell_type": "markdown",
      "source": [
        "**Handling missing values**\n",
        "\n",
        "If there are missing values, we can choose to remove or impute them.\n",
        "\n",
        "For demonstration, we'll impute missing values in the 'alignment' column with 'Unknown'."
      ],
      "metadata": {
        "id": "zN2xznDZFJc4"
      }
    },
    {
      "cell_type": "code",
      "source": [
        "# impute missing values with 'Unknown'.\n"
      ],
      "metadata": {
        "id": "edlDCWhiBvcU"
      },
      "execution_count": null,
      "outputs": []
    },
    {
      "cell_type": "code",
      "source": [],
      "metadata": {
        "id": "TyGqPFicEiFp"
      },
      "execution_count": null,
      "outputs": []
    },
    {
      "cell_type": "markdown",
      "source": [
        "## Data Analysis\n"
      ],
      "metadata": {
        "id": "SgbpUHsqm29I"
      }
    },
    {
      "cell_type": "markdown",
      "source": [
        "**Analysing the distribution of superheroes based on their gender**"
      ],
      "metadata": {
        "id": "rvr5VkThG7ZC"
      }
    },
    {
      "cell_type": "code",
      "source": [
        "import pandas as pd\n",
        "import matplotlib.pyplot as plt\n",
        "\n",
        "# Calculate the count of superheroes by gender\n",
        "gender_counts = df['gender'].value_counts()\n",
        "\n",
        "gender_counts"
      ],
      "metadata": {
        "id": "qd69EfLzHGpM"
      },
      "execution_count": null,
      "outputs": []
    },
    {
      "cell_type": "code",
      "source": [
        "# Create a bar chart to visualize the distribution\n",
        "plt.figure(figsize=(8, 6))\n",
        "plt.bar(gender_counts.index, gender_counts.values, color=['lightblue', 'lightpink', 'lightgray'])\n",
        "plt.title('Distribution of Superheroes by Gender')\n",
        "plt.xlabel('Gender')\n",
        "plt.ylabel('Count')\n",
        "plt.xticks(rotation=0)\n",
        "\n",
        "# Display the plot\n",
        "plt.show()\n"
      ],
      "metadata": {
        "id": "nGzOnfcoH_rq"
      },
      "execution_count": null,
      "outputs": []
    },
    {
      "cell_type": "markdown",
      "source": [
        "**Analysing the distribution of superheroes based on their alignment**"
      ],
      "metadata": {
        "id": "pPHFBv7DIN38"
      }
    },
    {
      "cell_type": "code",
      "source": [
        "# Calculate the count of superheroes by alignment\n"
      ],
      "metadata": {
        "id": "tJ5D5iwOHUmK"
      },
      "execution_count": null,
      "outputs": []
    },
    {
      "cell_type": "code",
      "source": [
        "# Create a pie chart to visualize the distribution\n",
        "\n",
        "\n",
        "# Display the plot\n",
        "\n"
      ],
      "metadata": {
        "id": "G5DjdWt0IIUo"
      },
      "execution_count": null,
      "outputs": []
    },
    {
      "cell_type": "code",
      "source": [
        "\n"
      ],
      "metadata": {
        "id": "Hclf2NDAHJeY"
      },
      "execution_count": null,
      "outputs": []
    },
    {
      "cell_type": "markdown",
      "source": [
        "## **Exploring the  relationship between gender and alignment among superheroes.**\n",
        "\n",
        "We examine whether there are any gender-based patterns in superhero alignment.\n",
        "\n",
        "We look for trends, such as whether a particular gender is more commonly associated with being \"Good\" or \"Evil.\""
      ],
      "metadata": {
        "id": "7UosGsTjI3Ag"
      }
    },
    {
      "cell_type": "markdown",
      "source": [
        "### Superhero Alignment Distribution by Gender Analysis"
      ],
      "metadata": {
        "id": "OEl28ismMVtP"
      }
    },
    {
      "cell_type": "code",
      "source": [
        "import pandas as pd\n",
        "\n",
        "# Group the data by gender and alignment\n",
        "grouped_data = df.groupby(['gender', 'alignment'])\n",
        "\n",
        "# Calculate the count for each group\n",
        "gender_alignment_counts = grouped_data.size()\n",
        "\n",
        "# Reshape the result to have gender as rows and alignment as columns\n",
        "gender_alignment_counts = gender_alignment_counts.unstack()\n",
        "\n",
        "# Replace any missing values with zeros\n",
        "gender_alignment_counts = gender_alignment_counts.fillna(0)\n",
        "\n",
        "# Display the resulting DataFrame\n",
        "(gender_alignment_counts)"
      ],
      "metadata": {
        "id": "q5n4KnXaJL-B"
      },
      "execution_count": null,
      "outputs": []
    },
    {
      "cell_type": "markdown",
      "source": [
        "**Visualising the distribution of \"Good\" and \"Evil\" superheroes within each gender category**"
      ],
      "metadata": {
        "id": "TVOMi2RwJ4YU"
      }
    },
    {
      "cell_type": "code",
      "source": [
        "# Create a stacked bar chart\n",
        "gender_alignment_counts.plot(kind='bar', stacked=True, figsize=(10, 6))\n",
        "plt.title('Superheroes by Gender and Alignment')\n",
        "plt.xlabel('Gender')\n",
        "plt.ylabel('Count')\n",
        "plt.xticks(rotation=0)\n",
        "plt.legend(title='Alignment')\n",
        "\n",
        "# Display the plot\n",
        "plt.show()\n"
      ],
      "metadata": {
        "id": "rEytnaslJecF"
      },
      "execution_count": null,
      "outputs": []
    },
    {
      "cell_type": "markdown",
      "source": [
        "**Grouped bar chart**"
      ],
      "metadata": {
        "id": "2F8ZuekuL1IX"
      }
    },
    {
      "cell_type": "code",
      "source": [
        "# Create a grouped bar chart to visualize the distribution\n",
        "ax = gender_alignment_counts.plot(kind='bar', figsize=(10, 6))\n",
        "plt.title('Alignment Distribution by Gender')\n",
        "plt.xlabel('Gender')\n",
        "plt.ylabel('Count')\n",
        "plt.legend(title='Alignment', loc='upper right', labels=['Evil', 'Good'])\n",
        "plt.xticks(rotation=0)\n",
        "\n",
        "# Display the plot\n",
        "plt.show()\n"
      ],
      "metadata": {
        "id": "liotuC0hLvq3"
      },
      "execution_count": null,
      "outputs": []
    },
    {
      "cell_type": "markdown",
      "source": [
        "**Horizontal stacked bar**"
      ],
      "metadata": {
        "id": "wFwPtrgGLVoF"
      }
    },
    {
      "cell_type": "code",
      "source": [
        "# Create a horizontal bar chart to visualize the distribution\n",
        "ax = gender_alignment_counts.plot(kind='barh', stacked=True, figsize=(10, 6))\n",
        "plt.title('Alignment Distribution by Gender')\n",
        "plt.xlabel('Count')\n",
        "plt.ylabel('Gender')\n",
        "plt.legend(title='Alignment', loc='upper right', labels=['Evil', 'Good'])\n",
        "\n",
        "# Display the plot\n",
        "plt.show()"
      ],
      "metadata": {
        "id": "_FRQIT0CKy31"
      },
      "execution_count": null,
      "outputs": []
    },
    {
      "cell_type": "markdown",
      "source": [
        "## Activity: anlayse and Visualise\n",
        "**Superhero Gender Distribution by Alignment Analysis**"
      ],
      "metadata": {
        "id": "HBiuSOtQMinR"
      }
    },
    {
      "cell_type": "code",
      "source": [
        "# Group the data by alignment and gender\n"
      ],
      "metadata": {
        "id": "SlYsx4GSMkqx"
      },
      "execution_count": null,
      "outputs": []
    },
    {
      "cell_type": "code",
      "source": [
        "# Create a grouped bar chart to visualize the distribution\n",
        "\n",
        "\n",
        "# Display the plot\n"
      ],
      "metadata": {
        "id": "v4BE8hXNMozo"
      },
      "execution_count": null,
      "outputs": []
    }
  ]
}