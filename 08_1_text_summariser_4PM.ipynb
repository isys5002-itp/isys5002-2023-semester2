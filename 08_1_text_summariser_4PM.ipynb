{
  "nbformat": 4,
  "nbformat_minor": 0,
  "metadata": {
    "colab": {
      "provenance": [],
      "authorship_tag": "ABX9TyOjHJFbdyWvEYmrxXyQ0iTk",
      "include_colab_link": true
    },
    "kernelspec": {
      "name": "python3",
      "display_name": "Python 3"
    },
    "language_info": {
      "name": "python"
    }
  },
  "cells": [
    {
      "cell_type": "markdown",
      "metadata": {
        "id": "view-in-github",
        "colab_type": "text"
      },
      "source": [
        "<a href=\"https://colab.research.google.com/github/isys5002-itp/isys5002-2023-semester2/blob/main/08_1_text_summariser_4PM.ipynb\" target=\"_parent\"><img src=\"https://colab.research.google.com/assets/colab-badge.svg\" alt=\"Open In Colab\"/></a>"
      ]
    },
    {
      "cell_type": "markdown",
      "source": [
        "# Build a summariser\n",
        "\n",
        "This section is based on the YouTube video [AI Text Summarization with Hugging Face Transformers in 4 Lines of Python](https://youtu.be/TsfLm5iiYb4)\n",
        "\n",
        "As Information Systems professionals, we use our skills to be aware of advanced concepts and think about how you can meet the organisational Using *Hugging Face Transformers*, you can leverage a pre-trained summarisation pipeline to start summarising content. In this section, we will:\n",
        "1. Installing Hugging Face Transformers\n",
        "2. Building a summarisation pipeline\n",
        "3. Run model/pipeline to summarisation\n",
        "4. **Investigate way to reuse the pipeline**\n",
        "\n",
        "> [Hugging Face Transformers](https://huggingface.co/docs/transformers/index) free state-of-the-art pre-trained machine learning models for processing text, images, audio and video. See the project website for more information."
      ],
      "metadata": {
        "id": "WVGiU2heTdju"
      }
    },
    {
      "cell_type": "code",
      "source": [
        "# Install Hugging Face Transformers and Dependencies\n",
        "!pip install transformers"
      ],
      "metadata": {
        "id": "6VaWKTfymjoQ"
      },
      "execution_count": null,
      "outputs": []
    },
    {
      "cell_type": "code",
      "source": [
        "#import libraries\n",
        "from transformers import pipeline\n",
        "\n",
        "'''\n",
        "import the pipeline function from the transformers library,\n",
        "and use it to create a summarization pipeline object\n",
        "'''\n",
        "# load sumarisation pipeline\n",
        "summary_pipeline = pipeline(\"summarization\", model=\"facebook/bart-large-cnn\")\n",
        "\n",
        "'''\n",
        "Once the pipeline is created, it can be used to summarize text\n",
        "by passing in a string of text to the summary_pipeline object\n",
        "'''\n",
        "# Let us copy-n-paste some text\n",
        "article = \"\"\"\n",
        "Around the world, as regulators look to rein in Big Tech, like the ongoing digital platforms inquiry in Australia, online platforms will face a raft of new rules in the EU.\n",
        "Known as the Digital Services Act, it’s a comprehensive set of regulations for digital services and content in the Eurozone.\n",
        "Like GDPR, the Digital Services Act is expected to lead the way for other countries to provide some rules around how digital services function,\n",
        "with everything from algorithms to online marketplaces, social networks, content-sharing platforms, app stores and online travel and accommodation platforms included.\n",
        "The Digital Services Act sets out clear due diligence obligations for digital platforms and other online intermediaries with measures for cooperation with trusted flaggers and\n",
        "competent authorities on content moderation, and measures to deter rogue traders from reaching consumers.\n",
        "\"\"\"\n",
        "\n",
        "# Run the summariser pipeline\n",
        "summary = summary_pipeline(article, max_length = 50, min_length= 20)\n",
        "\n",
        "# What does a summary look like?\n",
        "print(\"summary is: \", summary)\n",
        "\n",
        "# By inspection of output, 'summary' is a list.  The first element of the list is a dictionary.\n",
        "# The key to the dictionary is 'summary_text'.\n",
        "\n",
        "# Extract and display the summarised text\n",
        "text = summary[0]['summary_text'] # get first element, then extract the value for key 'summary text\n",
        "print(\"\\nExtracted text: \", text)\n"
      ],
      "metadata": {
        "id": "w5by8iL6n3Ze"
      },
      "execution_count": null,
      "outputs": []
    },
    {
      "cell_type": "code",
      "source": [
        "# splits the summarised text into a list of sentences using .split('.')\n",
        "summary[0]['summary_text'].split('.')"
      ],
      "metadata": {
        "id": "qYr5o3C0dBF4"
      },
      "execution_count": null,
      "outputs": []
    },
    {
      "cell_type": "markdown",
      "source": [
        "**Let's make it a function**"
      ],
      "metadata": {
        "id": "W63JcphDHKvw"
      }
    },
    {
      "cell_type": "code",
      "source": [
        "from transformers import pipeline\n",
        "\n",
        "def summarise(article):\n",
        "  summary_pipeline = pipeline(\"summarization\", model=\"facebook/bart-large-cnn\")\n",
        "  summary = summary_pipeline(article, max_length = 50, min_length= 20)\n",
        "  text = summary[0]['summary_text'] # get first element, then extract the value for key 'summary text\n",
        "  return text\n"
      ],
      "metadata": {
        "id": "LQajbB93giuF"
      },
      "execution_count": null,
      "outputs": []
    },
    {
      "cell_type": "markdown",
      "source": [
        "**A quick test.**"
      ],
      "metadata": {
        "id": "6pBTSJ6Wg731"
      }
    },
    {
      "cell_type": "code",
      "source": [
        "some_text = '''\n",
        "A lack of transparency and reporting standards in the scientifc community has led to increasing and widespread\n",
        "concerns relating to reproduction\n",
        "'''\n",
        "\n",
        "print(summarise(some_text))"
      ],
      "metadata": {
        "id": "qB3Tck54g-5E"
      },
      "execution_count": null,
      "outputs": []
    },
    {
      "cell_type": "markdown",
      "source": [
        "Umm... it worked, but with a warning on max_length.   We could reduce the max length or add a check that we have at least 50 words.  Our reasoning (design decision) is that it doesn't really make sense to sumarise say one sentance. We could pick any minimun size, but 50 seems like a good number.\n",
        "\n",
        "But first, how do I count words in a string?  We could search the internet for some code snippets.  We can use the the string method `split()`."
      ],
      "metadata": {
        "id": "mrEgaztkh48F"
      }
    },
    {
      "cell_type": "code",
      "source": [
        "help(str.split)"
      ],
      "metadata": {
        "id": "7pyqFWiQjIpO"
      },
      "execution_count": null,
      "outputs": []
    },
    {
      "cell_type": "markdown",
      "source": [
        "So `split()` returns a list of words.  The `len()` of the list will be the word count.  Let us try it.\n"
      ],
      "metadata": {
        "id": "YbVR_fCEjWSu"
      }
    },
    {
      "cell_type": "code",
      "source": [
        "some_text = '''\n",
        "A lack of transparency and reporting standards in the scientifc community has led to increasing and widespread\n",
        "concerns relating to reproduction\n",
        "'''\n",
        "\n",
        "count = len(some_text.split())\n",
        "print(count)"
      ],
      "metadata": {
        "id": "T3BcaeAkjyVJ"
      },
      "execution_count": null,
      "outputs": []
    },
    {
      "cell_type": "markdown",
      "source": [
        "**Let us update the function to include this (word length) check.**\n",
        "\n",
        "We will also add a doc string.  I choosen to use an `assert` statement, but you could do something similar with an `if` statement."
      ],
      "metadata": {
        "id": "gyPYdf_MkryF"
      }
    },
    {
      "cell_type": "code",
      "source": [
        "from transformers import pipeline\n",
        "\n",
        "def summarise(article):\n",
        "  '''\n",
        "  Returns a summary of a text.\n",
        "  The length of the text has to be greater than 50 words\n",
        "  '''\n",
        "  assert len(article.split()) > 50, 'Please make sure your text has at least 50 words'\n",
        "\n",
        "  summary_pipeline = pipeline(\"summarization\", model=\"facebook/bart-large-cnn\")\n",
        "  summary = summary_pipeline(article, max_length = 50, min_length= 20)\n",
        "  text = summary[0]['summary_text'] # get first element, then extract the value for key 'summary text\n",
        "  return text"
      ],
      "metadata": {
        "id": "ac9uWyG-ksjd"
      },
      "execution_count": null,
      "outputs": []
    },
    {
      "cell_type": "code",
      "source": [
        "some_text = '''A lack of transparency and reporting standards in the scientifc\n",
        "community has led to increasing and widespread concerns relating to reproduction\n",
        "'''\n",
        "\n",
        "print(summarise(some_text))"
      ],
      "metadata": {
        "id": "sxHTLUMWltqS"
      },
      "execution_count": null,
      "outputs": []
    },
    {
      "cell_type": "markdown",
      "source": [
        "Great the assertion worked."
      ],
      "metadata": {
        "id": "VKI-tSypl_Vp"
      }
    },
    {
      "cell_type": "code",
      "source": [
        "bigger_text='''\n",
        "A lack of transparency and reporting standards in the scientifc community has led to increasing and widespread\n",
        "concerns relating to reproduction and integrity of results. As an omics science, which generates vast amounts of data and\n",
        "relies heavily on data science for deriving biological meaning, metabolomics is highly vulnerable to irreproducibility. The\n",
        "metabolomics community has made substantial eforts to align with FAIR data standards by promoting open data formats,\n",
        "data repositories, online spectral libraries, and metabolite databases.\n",
        "'''\n",
        "\n",
        "print(summarise(bigger_text))"
      ],
      "metadata": {
        "id": "Koub-Hmel-68"
      },
      "execution_count": null,
      "outputs": []
    },
    {
      "cell_type": "markdown",
      "source": [
        "Okay that is working well.\n",
        "\n",
        "Let us start to use our hard work\n",
        "\n",
        "*   Summarise a PDF text\n",
        "*   Summarise a webpage text\n",
        "\n",
        "\n"
      ],
      "metadata": {
        "id": "c8wd_jI48SHf"
      }
    }
  ]
}