{
  "nbformat": 4,
  "nbformat_minor": 0,
  "metadata": {
    "colab": {
      "provenance": [],
      "authorship_tag": "ABX9TyOzW7LHNlj8LSdEFSFEFX2F",
      "include_colab_link": true
    },
    "kernelspec": {
      "name": "python3",
      "display_name": "Python 3"
    },
    "language_info": {
      "name": "python"
    }
  },
  "cells": [
    {
      "cell_type": "markdown",
      "metadata": {
        "id": "view-in-github",
        "colab_type": "text"
      },
      "source": [
        "<a href=\"https://colab.research.google.com/github/isys5002-itp/isys5002-2023-semester2/blob/main/07_0_Profit_Analysis_%26_Visualization.ipynb\" target=\"_parent\"><img src=\"https://colab.research.google.com/assets/colab-badge.svg\" alt=\"Open In Colab\"/></a>"
      ]
    },
    {
      "cell_type": "markdown",
      "source": [
        "# Instructions:\n",
        "\n",
        "Working in pair, follow the **six-steps problem solving methodology** to design and develop a program for the following task.\n",
        "\n",
        "Create two notebooks:<br>\n",
        "1. an **analysis and design notebook/report** (which includes analysis and design  discussion)<br>\n",
        "2. a **development notebook** which includes pseudocode, step-by-step code developement process, testing, and any other industry best practice\n",
        "\n",
        "\n",
        "\n",
        "\n"
      ],
      "metadata": {
        "id": "9mAf65K4_5Jv"
      }
    },
    {
      "cell_type": "markdown",
      "source": [
        "# Problem Statement:\n",
        "\n",
        "You work for a global retail company that operates in various regions around the world, including the Australia and Oceania region. The company stores sales data in a CSV file named \"sales.csv,\" which contains information about sales and profits in different countries. You are tasked with developing a program to analyze sales data stored in a CSV file named \"sales.csv\" for countries within the Australia and Oceania region. The program should calculate the maximum, minimum, and average profit for each country in this region and create a bar graph displaying the total profit for each country. This visualization aims to provide insights into the financial performance of countries in the Australia and Oceania region, helping your global retail company make informed decisions."
      ],
      "metadata": {
        "id": "u-SczfmD8z4W"
      }
    },
    {
      "cell_type": "code",
      "execution_count": null,
      "metadata": {
        "id": "V5NsV1s08zON"
      },
      "outputs": [],
      "source": []
    }
  ]
}