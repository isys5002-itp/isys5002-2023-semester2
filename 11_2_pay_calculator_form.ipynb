{
  "nbformat": 4,
  "nbformat_minor": 0,
  "metadata": {
    "colab": {
      "provenance": [],
      "include_colab_link": true
    },
    "kernelspec": {
      "name": "python3",
      "display_name": "Python 3"
    },
    "language_info": {
      "name": "python"
    }
  },
  "cells": [
    {
      "cell_type": "markdown",
      "metadata": {
        "id": "view-in-github",
        "colab_type": "text"
      },
      "source": [
        "<a href=\"https://colab.research.google.com/github/isys5002-itp/isys5002-2023-semester2/blob/main/11_2_pay_calculator_form.ipynb\" target=\"_parent\"><img src=\"https://colab.research.google.com/assets/colab-badge.svg\" alt=\"Open In Colab\"/></a>"
      ]
    },
    {
      "cell_type": "markdown",
      "source": [
        "# Pay Calculator\n",
        "\n",
        "Use this calculator to quickly estimate how much tax you will pay on your weekly income. This calculator conforms to official Australian Tax Office rates and formulas."
      ],
      "metadata": {
        "id": "t4G8SVevOtOe"
      }
    },
    {
      "cell_type": "code",
      "execution_count": 7,
      "metadata": {
        "id": "JETzvqg4zJ6s",
        "colab": {
          "base_uri": "https://localhost:8080/"
        },
        "cellView": "form",
        "outputId": "9e60235b-5c98-4327-bcf5-e68c4702849e"
      },
      "outputs": [
        {
          "output_type": "stream",
          "name": "stdout",
          "text": [
            "Payslip of Tina for week 2023-10-03\n",
            "Weekly Salary: $30000.00 Commission: $900.00 Tax: $13340.90\n",
            "Take Home Pay $17559.10\n"
          ]
        }
      ],
      "source": [
        "# @title Payslip Printer\n",
        "name = \"Tina\" # @param {type:\"string\"}\n",
        "date = \"2023-10-03\" # @param {type:\"date\"}\n",
        "salary = 30000 # @param {type:\"integer\"}\n",
        "sales = 45000 # @param {type:\"number\"}\n",
        "\n",
        "\n",
        "## calculate tax function ##\n",
        "def calculate_ato_tax(income):\n",
        "  '''\n",
        "  Calculate the tax payable on yearly income based on the Australian Tax\n",
        "  Office Resident tax rates 2021–22 Taxable Income\n",
        "  '''\n",
        "  tax_payable = 0 # if income <= 18200:\n",
        "  if 18201 <= income <= 45000:\n",
        "    tax_payable = 0.19 * (income - 18200)\n",
        "  elif 45001 <= income <= 120000:\n",
        "    tax_payable = 5092 + 0.32 * (income - 45000)\n",
        "  elif 120001 <= income <= 180000:\n",
        "    tax_payable = 29467 + 0.37 * (income - 120000)\n",
        "  elif income >= 180001:\n",
        "    tax_payable = 51667 + 0.45 * (income - 180000)\n",
        "  return tax_payable\n",
        "\n",
        "\n",
        "## print payslip function ##\n",
        "def print_payslip(name, date, salary, sales):\n",
        "  '''\n",
        "  Print pay details given a salary and sales\n",
        "  '''\n",
        "  commission = 0.02 * sales\n",
        "  earnings = salary + commission\n",
        "  income = earnings * 52\n",
        "  tax = calculate_ato_tax(income) / 52\n",
        "  pay = earnings - tax\n",
        "\n",
        "  # Print pay slip\n",
        "  print(f'Payslip of {name} for week {date}')\n",
        "  print(f'Weekly Salary: ${salary:.2f} Commission: ${commission:.2f} Tax: ${tax:.2f}')\n",
        "  print(f'Take Home Pay ${pay:.2f}')\n",
        "\n",
        "\n",
        "#name = 'Joe Blogs'\n",
        "#date = '2022-05-27'\n",
        "#salary =   1600\n",
        "#sales = 4000\n",
        "\n",
        "\n",
        "## call print payslip function ##\n",
        "print_payslip(name, date, salary, sales)"
      ]
    },
    {
      "cell_type": "code",
      "source": [
        "# @title Payslip Processing\n",
        "name = \"Tine\" # @param {type:\"string\"}\n",
        "date = \"2023-10-03\" # @param {type:\"date\"}\n",
        "salary = 25000 # @param {type:\"integer\"}\n",
        "sales = 35000 # @param {type:\"number\"}\n",
        "\n",
        "print_payslip(name, date, salary, sales)"
      ],
      "metadata": {
        "id": "5Sbh5hiw_QNV",
        "colab": {
          "base_uri": "https://localhost:8080/"
        },
        "cellView": "form",
        "outputId": "6c97f328-c726-492b-f6b4-943ef92355d0"
      },
      "execution_count": 4,
      "outputs": [
        {
          "output_type": "stream",
          "name": "stdout",
          "text": [
            "Payslip of Tine for week 2023-10-03\n",
            "Weekly Salary: $25000.00 Commission: $700.00 Tax: $11000.90\n",
            "Take Home Pay $14699.10\n"
          ]
        }
      ]
    }
  ]
}