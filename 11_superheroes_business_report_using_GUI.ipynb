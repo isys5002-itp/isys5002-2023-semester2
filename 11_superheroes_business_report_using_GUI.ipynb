{
  "nbformat": 4,
  "nbformat_minor": 0,
  "metadata": {
    "colab": {
      "provenance": [],
      "collapsed_sections": [
        "LFT2rMfmSnh8",
        "UaJZu09opfIH",
        "GiOCN838rjEw"
      ],
      "authorship_tag": "ABX9TyOmzo0hUpfh1DpQw8DJq/X+",
      "include_colab_link": true
    },
    "kernelspec": {
      "name": "python3",
      "display_name": "Python 3"
    },
    "language_info": {
      "name": "python"
    }
  },
  "cells": [
    {
      "cell_type": "markdown",
      "metadata": {
        "id": "view-in-github",
        "colab_type": "text"
      },
      "source": [
        "<a href=\"https://colab.research.google.com/github/isys5002-itp/isys5002-2023-semester2/blob/main/11_superheroes_business_report_using_GUI.ipynb\" target=\"_parent\"><img src=\"https://colab.research.google.com/assets/colab-badge.svg\" alt=\"Open In Colab\"/></a>"
      ]
    },
    {
      "cell_type": "markdown",
      "source": [
        "# Superheroes Business Report Notebook\n",
        "This notebook is a **basic** example of how you could structure your Business report notebook for your assignment."
      ],
      "metadata": {
        "id": "LFT2rMfmSnh8"
      }
    },
    {
      "cell_type": "markdown",
      "source": [
        "**Overview**\n",
        "\n",
        "Superheroes, as iconic figures in popular culture, present a compelling area for exploration. We seek to investigate the interplay between superheroes' gender and alignment, aiming to uncover potential gender-related patterns in their characterization as \"Good\" or \"Evil.\" This analysis is driven by the need to better understand how diverse identities are represented in the superhero genre and the broader implications for societal perceptions."
      ],
      "metadata": {
        "id": "UTT5ipAqVfrH"
      }
    },
    {
      "cell_type": "markdown",
      "source": [
        "**Problem solving methodology**\n",
        "1. State the problem clearly\n",
        "2. Describe the input and output information\n",
        "3. Work the problem by hand\n",
        "4. Develop an algorithm\n",
        "5. Convert algorithm/psedocode in to python code\n",
        "6. Test solution with a variety of data"
      ],
      "metadata": {
        "id": "SU-caq2OVlpI"
      }
    },
    {
      "cell_type": "markdown",
      "source": [
        "## Problem statement\n",
        "Superheroes, as iconic figures in popular culture, present a compelling area for exploration. We seek to investigate the interplay between superheroes' gender and alignment, aiming to uncover potential gender-related patterns in their characterization as \"Good\" or \"Evil.\" This analysis is driven by the need to better understand how diverse identities are represented in the superhero genre and the broader implications for societal perceptions.\n",
        "\n",
        "This analysis aims to determine whether there are discernible connections between the gender of superheroes and their alignment as \"Good\" or \"Evil.\" By collecting and analyzing dataset provided, we will investigate whether particular genders are more frequently associated with being \"Good\" or \"Evil\" superheroes. This exploration will provide insights into representation within the superhero genre, offering valuable contributions to media and gender studies."
      ],
      "metadata": {
        "id": "vtwf2EPfZy3K"
      }
    },
    {
      "cell_type": "markdown",
      "source": [
        "## Inputs and Outputs Analysis\n",
        "\n",
        "### Inputs for Analysis:\n",
        "Superheroes dataset as SQLite database\n",
        "\n",
        "\n",
        "### Outputs:\n",
        "\n",
        "#### Data Analysis 1: Exploring the superheros by gender and alignment.\n",
        "* a) Analysing the distribution of superheroes based on their gender\n",
        "* b) Analysing the distribution of superheroes based on their alignment\n",
        "\n",
        "#### Data Analysis 2: Exploring the relationship between gender and alignment among superheroes.\n",
        "\n",
        "* a) Superhero Alignment Distribution by Gender Analysis\n",
        "* b) Analysing the superheroes gender distribution by Alignment"
      ],
      "metadata": {
        "id": "N3YM-czBaUFS"
      }
    },
    {
      "cell_type": "markdown",
      "source": [
        "## Example Data and Analysis (Work the problem by Hand)\n",
        "\n",
        "id | last_name | first_name | superhero      | gender | alignment\n",
        "---|-----------|------------|----------------|--------|-----------\n",
        "0  | 14        | Quinzel    | Harley         | Female | Evil\n",
        "1  | 15        | Kyle       | Selina         | Female | Evil\n",
        "2  | 16        | Darkholme  | Mystique       | Female | Unknown\n",
        "3  | 18        | Ivy        | Poison         | Female | Evil\n",
        "4  | 19        | Moone      | Enchantress    | Female | Evil\n",
        "\n",
        "\n",
        "Based on the sample data above,\n",
        "* All females with all Evil alignment\n",
        "* All Evil superheores are females\n",
        "\n",
        "\n"
      ],
      "metadata": {
        "id": "wK5j36JJeJKT"
      }
    },
    {
      "cell_type": "markdown",
      "source": [
        "## Design - Algorithm\n",
        "\n",
        "\n",
        "**!!! Example Only - can be expended with details !!!**\n",
        "\n",
        "**Refer to the Calculator program**\n",
        "\n",
        "1. Create connection to the SQLite database.\n",
        "2. Loads the 'superheroes' table into a Pandas DataFrame.\n",
        "3. Performs data exploration, including displaying the first few rows, checking for duplicates, and handling missing values.\n",
        "4. Analysis 1: Exploring superheroes gender and alignment using bar charts and pie charts.\n",
        "5. Analysis 2: Exploring the distribution of superheroes by gender and alignment using bar charts.\n",
        "5. Closes the database connection."
      ],
      "metadata": {
        "id": "0FTswXwvvfMA"
      }
    },
    {
      "cell_type": "markdown",
      "source": [
        "**Final Design - pseudocode?**\n",
        "\n",
        "Refer to the Calculator program"
      ],
      "metadata": {
        "id": "Jd5YM1ewv7t5"
      }
    },
    {
      "cell_type": "markdown",
      "source": [
        "# Data Analysis Report"
      ],
      "metadata": {
        "id": "lF4hhpdUtONm"
      }
    },
    {
      "cell_type": "markdown",
      "source": [
        "## Data Analysis 1: Exploring the superheros by gender and alignment."
      ],
      "metadata": {
        "id": "SgbpUHsqm29I"
      }
    },
    {
      "cell_type": "markdown",
      "source": [
        "### A. Analysing the distribution of superheroes based on their gender"
      ],
      "metadata": {
        "id": "rvr5VkThG7ZC"
      }
    },
    {
      "cell_type": "code",
      "source": [
        "# @title <i>Superheroes distribution by Gender</i>\n",
        "import sqlite3\n",
        "import pandas as pd\n",
        "\n",
        "connection = sqlite3.connect('superheroes.db')\n",
        "cursor = connection.cursor()\n",
        "\n",
        "\n",
        "sql='''\n",
        "SELECT * from superheroes;\n",
        "'''\n",
        "# Load the data into a DataFrame\n",
        "df = pd.read_sql_query(sql, connection)\n",
        "\n",
        "## analysis 1a ##\n",
        "import pandas as pd\n",
        "import matplotlib.pyplot as plt\n",
        "\n",
        "# Calculate the count of superheroes by gender\n",
        "gender_counts = df['gender'].value_counts()\n",
        "\n",
        "#gender_counts\n",
        "print(f\"Male: {gender_counts.Male}\\nFemale: {gender_counts.Female}\")\n",
        "\n",
        "\n"
      ],
      "metadata": {
        "id": "qd69EfLzHGpM",
        "cellView": "form",
        "outputId": "19596130-fda6-4f5d-c59c-c0620a2ca832",
        "colab": {
          "base_uri": "https://localhost:8080/"
        }
      },
      "execution_count": 8,
      "outputs": [
        {
          "output_type": "stream",
          "name": "stdout",
          "text": [
            "Male: 16\n",
            "Female: 9\n"
          ]
        }
      ]
    },
    {
      "cell_type": "code",
      "source": [
        "# @title <i>Superheroes distribution by Gender Visualisation</i>\n",
        "\n",
        "# Create a bar chart to visualize the distribution\n",
        "plt.figure(figsize=(3, 3))\n",
        "plt.bar(gender_counts.index, gender_counts.values, color=['lightblue', 'lightpink', 'lightgray'])\n",
        "plt.title('Distribution of Superheroes by Gender')\n",
        "plt.xlabel('Gender')\n",
        "plt.ylabel('Count')\n",
        "plt.xticks(rotation=0)\n",
        "\n",
        "# Display the plot\n",
        "plt.show()\n"
      ],
      "metadata": {
        "cellView": "form",
        "id": "eGXBW7MxesQx",
        "outputId": "89ee1bf6-a9aa-49b5-ac29-417c4e7d5a78",
        "colab": {
          "base_uri": "https://localhost:8080/",
          "height": 333
        }
      },
      "execution_count": 10,
      "outputs": [
        {
          "output_type": "display_data",
          "data": {
            "text/plain": [
              "<Figure size 300x300 with 1 Axes>"
            ],
            "image/png": "[encoded data removed]"
          },
          "metadata": {}
        }
      ]
    },
    {
      "cell_type": "markdown",
      "source": [
        "# Analysis Discussion - insights gained/observation\n",
        "\n",
        "There are less female superheroes in the world. We need put in policies to encourage more participant of woemn in superheroes endevours."
      ],
      "metadata": {
        "id": "EsCgk1sckdc4"
      }
    },
    {
      "cell_type": "markdown",
      "source": [
        "### B. Analysing the distribution of superheroes based on their alignment\n"
      ],
      "metadata": {
        "id": "pPHFBv7DIN38"
      }
    },
    {
      "cell_type": "code",
      "source": [
        "# @title Superheroes distribution by Alignment\n",
        "\n",
        "# Calculate the count of superheroes by alignment\n",
        "alignment_counts = df['alignment'].value_counts()\n",
        "\n",
        "print(f\"Good: {alignment_counts.Good}\\tEvil: {alignment_counts.Evil}\")\n",
        "\n",
        "# Create a pie chart to visualize the distribution\n",
        "plt.figure(figsize=(6, 4))\n",
        "plt.pie(alignment_counts, labels = alignment_counts.index,autopct='%1.1f%%', colors=['lightpink', 'lightblue', 'lightgray'] )\n",
        "plt.title('Distribution of Superheroes by Alignment')\n",
        "\n",
        "# Display the plot\n",
        "plt.show()\n"
      ],
      "metadata": {
        "id": "tJ5D5iwOHUmK",
        "cellView": "form",
        "outputId": "2ba25af9-4d0d-4e24-c561-ce3c247bae68",
        "colab": {
          "base_uri": "https://localhost:8080/",
          "height": 385
        }
      },
      "execution_count": 13,
      "outputs": [
        {
          "output_type": "stream",
          "name": "stdout",
          "text": [
            "Good: 10\tEvil: 15\n"
          ]
        },
        {
          "output_type": "display_data",
          "data": {
            "text/plain": [
              "<Figure size 600x400 with 1 Axes>"
            ],
            "image/png": "[encoded data removed]"
          },
          "metadata": {}
        }
      ]
    },
    {
      "cell_type": "markdown",
      "source": [
        "## Data Analysis 2: Exploring the  relationship between gender and alignment among superheroes.\n",
        "\n",
        "We examine whether there are any gender-based patterns in superhero alignment.\n",
        "We look for trends, such as whether a particular gender is more commonly associated with being \"Good\" or \"Evil.\""
      ],
      "metadata": {
        "id": "UaJZu09opfIH"
      }
    },
    {
      "cell_type": "code",
      "source": [
        "# @title Relationship between gender and alignment among superheroes.\n",
        "option = \"Option 2: by Alignment\" # @param [\"Option 1: by Gender\", \"Option 2: by Alignment\"]\n",
        "\n",
        "\n",
        "if option == \"Option 2: by Alignment\":\n",
        "  print(\"You have selected Option 2: by Alignment\")\n",
        "  # Group the data by alignment and gender\n",
        "  grouped_data = df.groupby(['alignment', 'gender']).size().unstack().fillna(0)\n",
        "  print(grouped_data)\n",
        "\n",
        "  # Create a grouped bar chart to visualize the distribution\n",
        "  ax = grouped_data.plot(kind='bar', figsize=(5, 5))\n",
        "  plt.title('Gender Distribution by Superheroes Alignment')\n",
        "  plt.xlabel('Alignment')\n",
        "  plt.ylabel('Count')\n",
        "  plt.legend(title='Alignment', loc='upper right', labels=['Female', 'Male'])\n",
        "  plt.xticks(rotation=0)\n",
        "\n",
        "  # Display the plot\n",
        "  plt.show()\n",
        "\n",
        "\n",
        "elif option == \"Option 1: by Gender\":\n",
        "  print(\"You have selected Option 1: by Gender\")\n",
        "\n",
        "  # Group the data by gender and alignment\n",
        "  grouped_data = df.groupby(['gender', 'alignment'])\n",
        "  # Calculate the count for each group\n",
        "  gender_alignment_counts = grouped_data.size()\n",
        "  # Reshape the result to have gender as rows and alignment as columns\n",
        "  gender_alignment_counts = gender_alignment_counts.unstack()\n",
        "  # Replace any missing values with zeros\n",
        "  gender_alignment_counts = gender_alignment_counts.fillna(0)\n",
        "  # Display the resulting DataFrame\n",
        "  print(gender_alignment_counts)\n",
        "\n",
        "  # Create a horizontal bar chart to visualize the distribution\n",
        "  ax = gender_alignment_counts.plot(kind='barh', stacked=True, figsize=(5, 5))\n",
        "  plt.title('Alignment Distribution by Gender')\n",
        "  plt.xlabel('Count')\n",
        "  plt.ylabel('Gender')\n",
        "  plt.legend(title='Alignment', loc='upper right', labels=['Evil', 'Good'])\n",
        "\n",
        "  # Display the plot\n",
        "  plt.show()\n"
      ],
      "metadata": {
        "id": "Y3uyvElWmdPD",
        "cellView": "form",
        "outputId": "724216ff-dddf-40d8-e9d6-54e9d0d49475",
        "colab": {
          "base_uri": "https://localhost:8080/",
          "height": 578
        }
      },
      "execution_count": 28,
      "outputs": [
        {
          "output_type": "stream",
          "name": "stdout",
          "text": [
            "You have selected Option 2: by Alignment\n",
            "gender     Female  Male\n",
            "alignment              \n",
            "Evil            5    10\n",
            "Good            4     6\n"
          ]
        },
        {
          "output_type": "display_data",
          "data": {
            "text/plain": [
              "<Figure size 500x500 with 1 Axes>"
            ],
            "image/png": "[encoded data removed]"
          },
          "metadata": {}
        }
      ]
    },
    {
      "cell_type": "markdown",
      "source": [
        "# Analsis Discussion - insights gained\n",
        "\n",
        "There are more eveil male superheroes. That could be attributed to the fact that we have less female superheores."
      ],
      "metadata": {
        "id": "c5277vSgkDCf"
      }
    },
    {
      "cell_type": "markdown",
      "source": [
        "# Reference Sources:\n",
        "https://colab.research.google.com/notebooks/forms.ipynb\n"
      ],
      "metadata": {
        "id": "GiOCN838rjEw"
      }
    }
  ]
}