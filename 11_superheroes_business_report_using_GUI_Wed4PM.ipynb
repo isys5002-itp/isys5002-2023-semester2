{
  "nbformat": 4,
  "nbformat_minor": 0,
  "metadata": {
    "colab": {
      "provenance": [],
      "collapsed_sections": [
        "LFT2rMfmSnh8",
        "UaJZu09opfIH",
        "GiOCN838rjEw"
      ],
      "authorship_tag": "ABX9TyNFlRUQfQAz88kGtUURulqT",
      "include_colab_link": true
    },
    "kernelspec": {
      "name": "python3",
      "display_name": "Python 3"
    },
    "language_info": {
      "name": "python"
    }
  },
  "cells": [
    {
      "cell_type": "markdown",
      "metadata": {
        "id": "view-in-github",
        "colab_type": "text"
      },
      "source": [
        "<a href=\"https://colab.research.google.com/github/isys5002-itp/isys5002-2023-semester2/blob/main/11_superheroes_business_report_using_GUI_Wed4PM.ipynb\" target=\"_parent\"><img src=\"https://colab.research.google.com/assets/colab-badge.svg\" alt=\"Open In Colab\"/></a>"
      ]
    },
    {
      "cell_type": "markdown",
      "source": [
        "# Superheroes Business Report Notebook\n",
        "This notebook is a **basic** example of how you could structure your Business report notebook for your assignment."
      ],
      "metadata": {
        "id": "LFT2rMfmSnh8"
      }
    },
    {
      "cell_type": "markdown",
      "source": [
        "**Overview**\n",
        "\n",
        "Superheroes, as iconic figures in popular culture, present a compelling area for exploration. We seek to investigate the interplay between superheroes' gender and alignment, aiming to uncover potential gender-related patterns in their characterization as \"Good\" or \"Evil.\" This analysis is driven by the need to better understand how diverse identities are represented in the superhero genre and the broader implications for societal perceptions."
      ],
      "metadata": {
        "id": "UTT5ipAqVfrH"
      }
    },
    {
      "cell_type": "markdown",
      "source": [
        "**Problem solving methodology**\n",
        "1. State the problem clearly\n",
        "2. Describe the input and output information\n",
        "3. Work the problem by hand\n",
        "4. Develop an algorithm\n",
        "5. Convert algorithm/psedocode in to python code\n",
        "6. Test solution with a variety of data"
      ],
      "metadata": {
        "id": "SU-caq2OVlpI"
      }
    },
    {
      "cell_type": "markdown",
      "source": [
        "## Problem statement\n",
        "Superheroes, as iconic figures in popular culture, present a compelling area for exploration. We seek to investigate the interplay between superheroes' gender and alignment, aiming to uncover potential gender-related patterns in their characterization as \"Good\" or \"Evil.\" This analysis is driven by the need to better understand how diverse identities are represented in the superhero genre and the broader implications for societal perceptions.\n",
        "\n",
        "This analysis aims to determine whether there are discernible connections between the gender of superheroes and their alignment as \"Good\" or \"Evil.\" By collecting and analyzing dataset provided, we will investigate whether particular genders are more frequently associated with being \"Good\" or \"Evil\" superheroes. This exploration will provide insights into representation within the superhero genre, offering valuable contributions to media and gender studies."
      ],
      "metadata": {
        "id": "vtwf2EPfZy3K"
      }
    },
    {
      "cell_type": "markdown",
      "source": [
        "## Inputs and Outputs Analysis\n",
        "\n",
        "### Inputs for Analysis:\n",
        "Superheroes dataset as SQLite database\n",
        "\n",
        "\n",
        "### Outputs:\n",
        "\n",
        "#### Data Analysis 1: Exploring the superheros by gender and alignment.\n",
        "* a) Analysing the distribution of superheroes based on their gender\n",
        "* b) Analysing the distribution of superheroes based on their alignment\n",
        "\n",
        "#### Data Analysis 2: Exploring the relationship between gender and alignment among superheroes.\n",
        "\n",
        "* a) Superhero Alignment Distribution by Gender Analysis\n",
        "* b) Analysing the superheroes gender distribution by Alignment"
      ],
      "metadata": {
        "id": "N3YM-czBaUFS"
      }
    },
    {
      "cell_type": "markdown",
      "source": [
        "## Example Data and Analysis (Work the problem by Hand)\n",
        "\n",
        "id | last_name | first_name | superhero      | gender | alignment\n",
        "---|-----------|------------|----------------|--------|-----------\n",
        "0  | 14        | Quinzel    | Harley         | Female | Evil\n",
        "1  | 15        | Kyle       | Selina         | Female | Evil\n",
        "2  | 16        | Darkholme  | Mystique       | Female | Unknown\n",
        "3  | 18        | Ivy        | Poison         | Female | Evil\n",
        "4  | 19        | Moone      | Enchantress    | Female | Evil\n",
        "\n",
        "\n",
        "Based on the sample data above,\n",
        "* All females with all Evil alignment\n",
        "* All Evil superheores are females\n",
        "\n",
        "\n"
      ],
      "metadata": {
        "id": "wK5j36JJeJKT"
      }
    },
    {
      "cell_type": "markdown",
      "source": [
        "## Design - Algorithm\n",
        "\n",
        "\n",
        "**!!! Example Only - can be expended with details !!!**\n",
        "\n",
        "**Refer to the Calculator program**\n",
        "\n",
        "1. Create connection to the SQLite database.\n",
        "2. Loads the 'superheroes' table into a Pandas DataFrame.\n",
        "3. Performs data exploration, including displaying the first few rows, checking for duplicates, and handling missing values.\n",
        "4. Analysis 1: Exploring superheroes gender and alignment using bar charts and pie charts.\n",
        "5. Analysis 2: Exploring the distribution of superheroes by gender and alignment using bar charts.\n",
        "5. Closes the database connection."
      ],
      "metadata": {
        "id": "0FTswXwvvfMA"
      }
    },
    {
      "cell_type": "markdown",
      "source": [
        "**Final Design - pseudocode?**\n",
        "\n",
        "Refer to the Calculator program"
      ],
      "metadata": {
        "id": "Jd5YM1ewv7t5"
      }
    },
    {
      "cell_type": "markdown",
      "source": [
        "# Data Analysis Report"
      ],
      "metadata": {
        "id": "lF4hhpdUtONm"
      }
    },
    {
      "cell_type": "markdown",
      "source": [
        "## Data Analysis 1: Exploring the superheros by gender and alignment."
      ],
      "metadata": {
        "id": "SgbpUHsqm29I"
      }
    },
    {
      "cell_type": "markdown",
      "source": [
        "### A. Analysing the distribution of superheroes based on their gender"
      ],
      "metadata": {
        "id": "rvr5VkThG7ZC"
      }
    },
    {
      "cell_type": "code",
      "source": [
        "# @title Superheroes distribuion by Gender\n",
        "\n",
        "import sqlite3\n",
        "import pandas as pd\n",
        "import matplotlib.pyplot as plt\n",
        "\n",
        "# creating connection to database and cursor\n",
        "connection = sqlite3.connect('superheroes.db')\n",
        "cursor = connection.cursor()\n",
        "\n",
        "# load data into dataframe\n",
        "sql='''\n",
        "SELECT * from superheroes;\n",
        "'''\n",
        "# Load the data into a DataFrame\n",
        "df = pd.read_sql_query(sql, connection)\n",
        "\n",
        "# drop duplicate values\n",
        "sp_df = df.drop_duplicates()\n",
        "# impute missing values with 'Unknown'.\n",
        "sp_df['alignment'].fillna('Unknown', inplace = True)\n",
        "\n",
        "\n",
        "## analysis 1 superheroes disctibution by gender ##\n",
        "# Calculate the count of superheroes by gender\n",
        "gender_counts = df['gender'].value_counts()\n",
        "\n",
        "print(f\"Male: {gender_counts.Male}\\nFemale: {gender_counts.Female}\")"
      ],
      "metadata": {
        "id": "qd69EfLzHGpM",
        "colab": {
          "base_uri": "https://localhost:8080/"
        },
        "outputId": "4cd5351f-3376-418f-dae4-435b4fbb6c00"
      },
      "execution_count": 11,
      "outputs": [
        {
          "output_type": "stream",
          "name": "stdout",
          "text": [
            "Male: 16\n",
            "Female: 9\n"
          ]
        }
      ]
    },
    {
      "cell_type": "code",
      "source": [
        "# @title Superheroes distribution by Gender Visualisation\n",
        "\n",
        "# Create a bar chart to visualize the distribution\n",
        "plt.figure(figsize=(4, 3))\n",
        "plt.bar(gender_counts.index, gender_counts.values, color=['lightblue', 'lightpink', 'lightgray'])\n",
        "plt.title('Distribution of Superheroes by Gender')\n",
        "plt.xlabel('Gender')\n",
        "plt.ylabel('Count')\n",
        "plt.xticks(rotation=0)\n",
        "\n",
        "# Display the plot\n",
        "plt.show()"
      ],
      "metadata": {
        "id": "nGzOnfcoH_rq",
        "colab": {
          "base_uri": "https://localhost:8080/",
          "height": 333
        },
        "cellView": "form",
        "outputId": "10c79bf9-56a5-4014-924f-f9e1699a0932"
      },
      "execution_count": 12,
      "outputs": [
        {
          "output_type": "display_data",
          "data": {
            "text/plain": [
              "<Figure size 400x300 with 1 Axes>"
            ],
            "image/png": "[encoded data removed]"
          },
          "metadata": {}
        }
      ]
    },
    {
      "cell_type": "markdown",
      "source": [
        "### Discussion.observation.insghts:\n",
        "\n",
        "There are more male superheores than female superheroes in the world. Put in some policies that would encourage more females to tak esuprehroes roles."
      ],
      "metadata": {
        "id": "RogZOZXDBJZU"
      }
    },
    {
      "cell_type": "markdown",
      "source": [
        "### B. Analysing the distribution of superheroes based on their alignment\n"
      ],
      "metadata": {
        "id": "pPHFBv7DIN38"
      }
    },
    {
      "cell_type": "code",
      "source": [
        "# @title Superheroes distribution by Alignment\n",
        "# Calculate the count of superheroes by gender\n",
        "alignment_counts = df['alignment'].value_counts()\n",
        "\n",
        "print(f\"Good: {alignment_counts.Good}\\tEvil: {alignment_counts.Evil}\")\n",
        "\n",
        "\n",
        "## plot graph ##\n",
        "# Create a pie chart to visualize the distribution\n",
        "plt.figure(figsize=(4, 3))\n",
        "\n",
        "plt.pie(alignment_counts, labels=alignment_counts.index, labeldistance=1.15, autopct='%1.1f%%', colors=['lightpink', 'lightblue', 'lightgray'] )\n",
        "\n",
        "# Display the plot\n",
        "plt.show()\n"
      ],
      "metadata": {
        "id": "tJ5D5iwOHUmK",
        "colab": {
          "base_uri": "https://localhost:8080/",
          "height": 285
        },
        "cellView": "form",
        "outputId": "797d213f-9d95-4f1f-dfd6-f88f7aec5d27"
      },
      "execution_count": 15,
      "outputs": [
        {
          "output_type": "stream",
          "name": "stdout",
          "text": [
            "Good: 10\tEvil: 15\n"
          ]
        },
        {
          "output_type": "display_data",
          "data": {
            "text/plain": [
              "<Figure size 400x300 with 1 Axes>"
            ],
            "image/png": "[encoded data removed]"
          },
          "metadata": {}
        }
      ]
    },
    {
      "cell_type": "markdown",
      "source": [
        "## Data Analysis 2: Exploring the  relationship between gender and alignment among superheroes.\n",
        "\n",
        "We examine whether there are any gender-based patterns in superhero alignment.\n",
        "We look for trends, such as whether a particular gender is more commonly associated with being \"Good\" or \"Evil.\""
      ],
      "metadata": {
        "id": "UaJZu09opfIH"
      }
    },
    {
      "cell_type": "code",
      "source": [],
      "metadata": {
        "id": "Y3uyvElWmdPD"
      },
      "execution_count": null,
      "outputs": []
    },
    {
      "cell_type": "markdown",
      "source": [
        "# Reference Sources:\n",
        "https://colab.research.google.com/notebooks/forms.ipynb\n"
      ],
      "metadata": {
        "id": "GiOCN838rjEw"
      }
    }
  ]
}